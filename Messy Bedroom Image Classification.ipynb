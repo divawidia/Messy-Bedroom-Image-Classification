{
 "cells": [
  {
   "cell_type": "markdown",
   "metadata": {},
   "source": [
    "Pada notebook ini akan membuat model CNN untuk mengklasifikasikan foto kamar yang rapi atau berantakan. "
   ]
  },
  {
   "cell_type": "markdown",
   "metadata": {},
   "source": [
    "**LOAD DATASET**"
   ]
  },
  {
   "cell_type": "code",
   "execution_count": 11,
   "metadata": {},
   "outputs": [],
   "source": [
    "# mendefinisikan nama direktori untuk data latih dan data validasi.\n",
    "train_dir = \"C:/Users/wiart/Documents/Belajar Machine Learning/Messy Bedroom Image Classification/images/train\"\n",
    "validation_dir = \"C:/Users/wiart/Documents/Belajar Machine Learning/Messy Bedroom Image Classification/images/val\"\n",
    "\n"
   ]
  },
  {
   "cell_type": "code",
   "execution_count": 12,
   "metadata": {},
   "outputs": [
    {
     "data": {
      "text/plain": [
       "['clean', 'messy']"
      ]
     },
     "execution_count": 12,
     "metadata": {},
     "output_type": "execute_result"
    }
   ],
   "source": [
    "import os\n",
    "\n",
    "os.listdir(train_dir)"
   ]
  },
  {
   "cell_type": "markdown",
   "metadata": {},
   "source": [
    "**PREPROCESSING DATA**"
   ]
  },
  {
   "cell_type": "markdown",
   "metadata": {},
   "source": [
    "Langkah selanjutnya, kita akan menerapkan ImageDataGenerator untuk data latih dan data validasi. ImageDataGenerator merupakan sebuah fungsi yang sangat berguna untuk mempersiapkan data latih dan data validasi. Dataset akan dilakukan proses augmentasi gambar, dimana \n",
    "sebuah teknik yang dapat digunakan untuk memperbanyak data latih dengan cara menduplikasi gambar yang telah ada dengan menambahkan variasi tertentu"
   ]
  },
  {
   "cell_type": "code",
   "execution_count": 13,
   "metadata": {},
   "outputs": [],
   "source": [
    "from tensorflow.keras.preprocessing.image import ImageDataGenerator\n",
    "\n",
    "train_dataGen = ImageDataGenerator(\n",
    "                    rescale = 1./255,\n",
    "                    rotation_range = 20,\n",
    "                    horizontal_flip = True,\n",
    "                    shear_range = 0.2,\n",
    "                    fill_mode = 'nearest')\n",
    "\n",
    "test_dataGen = ImageDataGenerator(\n",
    "                    rescale = 1./255)"
   ]
  },
  {
   "cell_type": "markdown",
   "metadata": {},
   "source": [
    "Selanjutnya, siapkan data latih dan validasi dari kumpulan data gambar yang di-load dalam memori melalui fungsi flow()"
   ]
  },
  {
   "cell_type": "code",
   "execution_count": 15,
   "metadata": {},
   "outputs": [
    {
     "name": "stdout",
     "output_type": "stream",
     "text": [
      "Found 192 images belonging to 2 classes.\n",
      "Found 20 images belonging to 2 classes.\n"
     ]
    }
   ],
   "source": [
    "train_generator = train_dataGen.flow_from_directory(\n",
    "    train_dir,\n",
    "    target_size = (150,150), # mengubah resolusi gambar menjadi 150x150\n",
    "    batch_size = 4,\n",
    "    class_mode = 'binary') # karena merupakan masalah klasifikasi 2 kelas, maka gunakan class_mode = binary\n",
    "\n",
    "validation_generator = test_dataGen.flow_from_directory(\n",
    "    validation_dir,\n",
    "    target_size = (150,150), # mengubah resolusi gambar menjadi 150x150\n",
    "    batch_size = 4,\n",
    "    class_mode = 'binary') # karena merupakan masalah klasifikasi 2 kelas, maka gunakan class_mode = binary"
   ]
  }
 ],
 "metadata": {
  "kernelspec": {
   "display_name": "Python 3.9.5 64-bit",
   "language": "python",
   "name": "python3"
  },
  "language_info": {
   "codemirror_mode": {
    "name": "ipython",
    "version": 3
   },
   "file_extension": ".py",
   "mimetype": "text/x-python",
   "name": "python",
   "nbconvert_exporter": "python",
   "pygments_lexer": "ipython3",
   "version": "3.9.5"
  },
  "orig_nbformat": 4,
  "vscode": {
   "interpreter": {
    "hash": "b4a9168551437448198d4f2fec74653a97ed6f61c1486e4fe18d03bbf1e51fe5"
   }
  }
 },
 "nbformat": 4,
 "nbformat_minor": 2
}
